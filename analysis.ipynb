{
 "cells": [
  {
   "cell_type": "markdown",
   "metadata": {
    "id": "jpTqcd9p1egC"
   },
   "source": [
    "# Laboratorio 4\n",
    "## Clasificación de malware\n",
    "Detección de malware utilizando métodos de ML\n",
    "> #### Gerardo Méndez 18239"
   ]
  },
  {
   "cell_type": "code",
   "execution_count": 164,
   "metadata": {
    "colab": {
     "base_uri": "https://localhost:8080/"
    },
    "id": "NLJDfSwM11SW",
    "outputId": "c6725760-a590-47d8-f2e2-552aa9677d8c"
   },
   "outputs": [],
   "source": [
    "import pandas as pd\n",
    "import numpy as np\n",
    "import re\n",
    "\n",
    "import matplotlib.pyplot as plt\n",
    "import seaborn as sns\n",
    "\n",
    "%matplotlib inline"
   ]
  },
  {
   "cell_type": "code",
   "execution_count": 165,
   "metadata": {},
   "outputs": [],
   "source": [
    "## cargamos el set de datos\n",
    "df = pd.read_csv('datasets/virus_sample.csv')"
   ]
  },
  {
   "cell_type": "markdown",
   "metadata": {},
   "source": [
    "### Parte 1 - Ingeniería de Características"
   ]
  },
  {
   "cell_type": "markdown",
   "metadata": {},
   "source": [
    "#### Exploración de datos"
   ]
  },
  {
   "cell_type": "code",
   "execution_count": 166,
   "metadata": {},
   "outputs": [
    {
     "data": {
      "text/html": [
       "<div>\n",
       "<style scoped>\n",
       "    .dataframe tbody tr th:only-of-type {\n",
       "        vertical-align: middle;\n",
       "    }\n",
       "\n",
       "    .dataframe tbody tr th {\n",
       "        vertical-align: top;\n",
       "    }\n",
       "\n",
       "    .dataframe thead th {\n",
       "        text-align: right;\n",
       "    }\n",
       "</style>\n",
       "<table border=\"1\" class=\"dataframe\">\n",
       "  <thead>\n",
       "    <tr style=\"text-align: right;\">\n",
       "      <th></th>\n",
       "      <th>file</th>\n",
       "      <th>api</th>\n",
       "      <th>class</th>\n",
       "    </tr>\n",
       "  </thead>\n",
       "  <tbody>\n",
       "    <tr>\n",
       "      <th>0</th>\n",
       "      <td>7ff49f2f0912352416b05c010f35f402cc79feed</td>\n",
       "      <td>IntersectRect,GetCurrentProcess,GetVersion</td>\n",
       "      <td>Virus</td>\n",
       "    </tr>\n",
       "    <tr>\n",
       "      <th>1</th>\n",
       "      <td>50cc6c99ec285d0db45dde07d8fdc18d9098c5b6</td>\n",
       "      <td>GetCaretBlinkTime,CountClipboardFormats,GetCon...</td>\n",
       "      <td>Virus</td>\n",
       "    </tr>\n",
       "    <tr>\n",
       "      <th>2</th>\n",
       "      <td>f77c6bd4aebacd1a01d02e0cb20642ebf2d32929</td>\n",
       "      <td>VarR8Pow,GetClipboardViewer,GetInputDesktop,Ge...</td>\n",
       "      <td>Virus</td>\n",
       "    </tr>\n",
       "    <tr>\n",
       "      <th>3</th>\n",
       "      <td>349c367c5b88fbb6cafae5d7109588d7250e16b5</td>\n",
       "      <td>SetTraceCallback,CopyAcceleratorTableW,GetProc...</td>\n",
       "      <td>Virus</td>\n",
       "    </tr>\n",
       "    <tr>\n",
       "      <th>4</th>\n",
       "      <td>021f4aa86b520e1d606ab26699c35546bcd00c27</td>\n",
       "      <td>SHLoadNonloadedIconOverlayIdentifiers,VarUI8Fr...</td>\n",
       "      <td>Virus</td>\n",
       "    </tr>\n",
       "    <tr>\n",
       "      <th>5</th>\n",
       "      <td>124491349667be19c61a5f938f139eb326b9223b</td>\n",
       "      <td>NtReplyWaitReceivePortEx,NtSetInformationJobOb...</td>\n",
       "      <td>Virus</td>\n",
       "    </tr>\n",
       "    <tr>\n",
       "      <th>6</th>\n",
       "      <td>6aea319c23473d1b837972a064bc20d79404c859</td>\n",
       "      <td>SHGetNewLinkInfoA,GetSystemDefaultUILanguage,L...</td>\n",
       "      <td>Virus</td>\n",
       "    </tr>\n",
       "    <tr>\n",
       "      <th>7</th>\n",
       "      <td>7682fa3c7f4ecbd9df428630778b6662ea172e71</td>\n",
       "      <td>CryptGenRandom,GetDoubleClickTime,GetDialogBas...</td>\n",
       "      <td>Virus</td>\n",
       "    </tr>\n",
       "    <tr>\n",
       "      <th>8</th>\n",
       "      <td>1c0d53d5ed17b9f68f6c1c2fc034e766380a1665</td>\n",
       "      <td>GetVersion,GetTapePosition,GetLastError,SetMen...</td>\n",
       "      <td>Virus</td>\n",
       "    </tr>\n",
       "    <tr>\n",
       "      <th>9</th>\n",
       "      <td>2d25cdbd7b6ea9a03b270525d13eda302be3edc1</td>\n",
       "      <td>VarUI8FromStr,SetVarConversionLocaleSetting,Nt...</td>\n",
       "      <td>Virus</td>\n",
       "    </tr>\n",
       "  </tbody>\n",
       "</table>\n",
       "</div>"
      ],
      "text/plain": [
       "                                       file  \\\n",
       "0  7ff49f2f0912352416b05c010f35f402cc79feed   \n",
       "1  50cc6c99ec285d0db45dde07d8fdc18d9098c5b6   \n",
       "2  f77c6bd4aebacd1a01d02e0cb20642ebf2d32929   \n",
       "3  349c367c5b88fbb6cafae5d7109588d7250e16b5   \n",
       "4  021f4aa86b520e1d606ab26699c35546bcd00c27   \n",
       "5  124491349667be19c61a5f938f139eb326b9223b   \n",
       "6  6aea319c23473d1b837972a064bc20d79404c859   \n",
       "7  7682fa3c7f4ecbd9df428630778b6662ea172e71   \n",
       "8  1c0d53d5ed17b9f68f6c1c2fc034e766380a1665   \n",
       "9  2d25cdbd7b6ea9a03b270525d13eda302be3edc1   \n",
       "\n",
       "                                                 api  class  \n",
       "0         IntersectRect,GetCurrentProcess,GetVersion  Virus  \n",
       "1  GetCaretBlinkTime,CountClipboardFormats,GetCon...  Virus  \n",
       "2  VarR8Pow,GetClipboardViewer,GetInputDesktop,Ge...  Virus  \n",
       "3  SetTraceCallback,CopyAcceleratorTableW,GetProc...  Virus  \n",
       "4  SHLoadNonloadedIconOverlayIdentifiers,VarUI8Fr...  Virus  \n",
       "5  NtReplyWaitReceivePortEx,NtSetInformationJobOb...  Virus  \n",
       "6  SHGetNewLinkInfoA,GetSystemDefaultUILanguage,L...  Virus  \n",
       "7  CryptGenRandom,GetDoubleClickTime,GetDialogBas...  Virus  \n",
       "8  GetVersion,GetTapePosition,GetLastError,SetMen...  Virus  \n",
       "9  VarUI8FromStr,SetVarConversionLocaleSetting,Nt...  Virus  "
      ]
     },
     "execution_count": 166,
     "metadata": {},
     "output_type": "execute_result"
    }
   ],
   "source": [
    "## mostramos los datos\n",
    "df.head(10)"
   ]
  },
  {
   "cell_type": "code",
   "execution_count": 167,
   "metadata": {},
   "outputs": [
    {
     "name": "stdout",
     "output_type": "stream",
     "text": [
      "<class 'pandas.core.frame.DataFrame'>\n",
      "RangeIndex: 9795 entries, 0 to 9794\n",
      "Data columns (total 3 columns):\n",
      " #   Column  Non-Null Count  Dtype \n",
      "---  ------  --------------  ----- \n",
      " 0   file    9795 non-null   object\n",
      " 1   api     9795 non-null   object\n",
      " 2   class   9795 non-null   object\n",
      "dtypes: object(3)\n",
      "memory usage: 229.7+ KB\n"
     ]
    }
   ],
   "source": [
    "df.info()"
   ]
  },
  {
   "cell_type": "code",
   "execution_count": 168,
   "metadata": {},
   "outputs": [
    {
     "data": {
      "text/plain": [
       "Trojan        6153\n",
       "Virus         2367\n",
       "Backdoor       447\n",
       "Worms          441\n",
       "Adware         222\n",
       "Agent          102\n",
       "Downloader      31\n",
       "Spyware         11\n",
       "Ransomware      10\n",
       "Riskware         4\n",
       "Dropper          4\n",
       "Crypt            2\n",
       "Keylogger        1\n",
       "Name: class, dtype: int64"
      ]
     },
     "execution_count": 168,
     "metadata": {},
     "output_type": "execute_result"
    }
   ],
   "source": [
    "df['class'].value_counts()"
   ]
  },
  {
   "cell_type": "code",
   "execution_count": 169,
   "metadata": {},
   "outputs": [],
   "source": [
    "df.drop(df.loc[df['class'] == 'Downloader'].index, inplace=True)\n",
    "df.drop(df.loc[df['class'] == 'Spyware'].index, inplace=True)\n",
    "df.drop(df.loc[df['class'] == 'Ransomware'].index, inplace=True)\n",
    "df.drop(df.loc[df['class'] == 'Riskware'].index, inplace=True)\n",
    "df.drop(df.loc[df['class'] == 'Dropper'].index, inplace=True)\n",
    "df.drop(df.loc[df['class'] == 'Crypt'].index, inplace=True)\n",
    "df.drop(df.loc[df['class'] == 'Keylogger'].index, inplace=True)"
   ]
  },
  {
   "cell_type": "code",
   "execution_count": 170,
   "metadata": {},
   "outputs": [
    {
     "data": {
      "text/plain": [
       "Trojan      6153\n",
       "Virus       2367\n",
       "Backdoor     447\n",
       "Worms        441\n",
       "Adware       222\n",
       "Agent        102\n",
       "Name: class, dtype: int64"
      ]
     },
     "execution_count": 170,
     "metadata": {},
     "output_type": "execute_result"
    }
   ],
   "source": [
    "df['class'].value_counts()"
   ]
  },
  {
   "cell_type": "code",
   "execution_count": 171,
   "metadata": {},
   "outputs": [],
   "source": [
    "mapping = {\n",
    "    \"Trojan\": 0,\n",
    "    \"Virus\": 1,\n",
    "    \"Backdoor\": 2,\n",
    "    \"Worms\": 3,\n",
    "    \"Adware\": 4,\n",
    "    \"Agent\": 5\n",
    "}"
   ]
  },
  {
   "cell_type": "code",
   "execution_count": 172,
   "metadata": {},
   "outputs": [],
   "source": [
    "df['class'] = df.apply(lambda row: mapping[row['class']], axis=1)"
   ]
  },
  {
   "cell_type": "code",
   "execution_count": 173,
   "metadata": {},
   "outputs": [
    {
     "data": {
      "text/plain": [
       "0    6153\n",
       "1    2367\n",
       "2     447\n",
       "3     441\n",
       "4     222\n",
       "5     102\n",
       "Name: class, dtype: int64"
      ]
     },
     "execution_count": 173,
     "metadata": {},
     "output_type": "execute_result"
    }
   ],
   "source": [
    "df['class'].value_counts()"
   ]
  },
  {
   "cell_type": "code",
   "execution_count": 174,
   "metadata": {},
   "outputs": [
    {
     "data": {
      "text/html": [
       "<div>\n",
       "<style scoped>\n",
       "    .dataframe tbody tr th:only-of-type {\n",
       "        vertical-align: middle;\n",
       "    }\n",
       "\n",
       "    .dataframe tbody tr th {\n",
       "        vertical-align: top;\n",
       "    }\n",
       "\n",
       "    .dataframe thead th {\n",
       "        text-align: right;\n",
       "    }\n",
       "</style>\n",
       "<table border=\"1\" class=\"dataframe\">\n",
       "  <thead>\n",
       "    <tr style=\"text-align: right;\">\n",
       "      <th></th>\n",
       "      <th>file</th>\n",
       "      <th>api</th>\n",
       "      <th>class</th>\n",
       "    </tr>\n",
       "  </thead>\n",
       "  <tbody>\n",
       "    <tr>\n",
       "      <th>0</th>\n",
       "      <td>7ff49f2f0912352416b05c010f35f402cc79feed</td>\n",
       "      <td>IntersectRect,GetCurrentProcess,GetVersion</td>\n",
       "      <td>1</td>\n",
       "    </tr>\n",
       "    <tr>\n",
       "      <th>1</th>\n",
       "      <td>50cc6c99ec285d0db45dde07d8fdc18d9098c5b6</td>\n",
       "      <td>GetCaretBlinkTime,CountClipboardFormats,GetCon...</td>\n",
       "      <td>1</td>\n",
       "    </tr>\n",
       "    <tr>\n",
       "      <th>2</th>\n",
       "      <td>f77c6bd4aebacd1a01d02e0cb20642ebf2d32929</td>\n",
       "      <td>VarR8Pow,GetClipboardViewer,GetInputDesktop,Ge...</td>\n",
       "      <td>1</td>\n",
       "    </tr>\n",
       "    <tr>\n",
       "      <th>3</th>\n",
       "      <td>349c367c5b88fbb6cafae5d7109588d7250e16b5</td>\n",
       "      <td>SetTraceCallback,CopyAcceleratorTableW,GetProc...</td>\n",
       "      <td>1</td>\n",
       "    </tr>\n",
       "    <tr>\n",
       "      <th>4</th>\n",
       "      <td>021f4aa86b520e1d606ab26699c35546bcd00c27</td>\n",
       "      <td>SHLoadNonloadedIconOverlayIdentifiers,VarUI8Fr...</td>\n",
       "      <td>1</td>\n",
       "    </tr>\n",
       "    <tr>\n",
       "      <th>...</th>\n",
       "      <td>...</td>\n",
       "      <td>...</td>\n",
       "      <td>...</td>\n",
       "    </tr>\n",
       "    <tr>\n",
       "      <th>9790</th>\n",
       "      <td>3b91b43ad8a25a8e9e52f938473f5bb05fb4d530ff4b22...</td>\n",
       "      <td>NtResetWriteWatch,GetClipboardViewer,GetConsol...</td>\n",
       "      <td>0</td>\n",
       "    </tr>\n",
       "    <tr>\n",
       "      <th>9791</th>\n",
       "      <td>54315d591d2855fc794ba5f61012efdd92b489576e4aa5...</td>\n",
       "      <td>RtlpNtEnumerateSubKey,NtFlushWriteBuffer,ReadC...</td>\n",
       "      <td>0</td>\n",
       "    </tr>\n",
       "    <tr>\n",
       "      <th>9792</th>\n",
       "      <td>dcb7507fa10537d2e3da2ea22ec6346e02a0926ad64d76...</td>\n",
       "      <td>ZwNotifyChangeDirectoryFile,GetCursor,GetConso...</td>\n",
       "      <td>0</td>\n",
       "    </tr>\n",
       "    <tr>\n",
       "      <th>9793</th>\n",
       "      <td>cf441d0a2de25c6207fc782e190ce5302171d5e28ce41b...</td>\n",
       "      <td>ILSaveToStream,OleQueryLinkFromData,VarUdateFr...</td>\n",
       "      <td>0</td>\n",
       "    </tr>\n",
       "    <tr>\n",
       "      <th>9794</th>\n",
       "      <td>be7d4be8e48719257d6040c3e9a1f6f15bc2616ca22276...</td>\n",
       "      <td>SwitchToFiber,GetUserDefaultLCID,GetCurrentThr...</td>\n",
       "      <td>0</td>\n",
       "    </tr>\n",
       "  </tbody>\n",
       "</table>\n",
       "<p>9732 rows × 3 columns</p>\n",
       "</div>"
      ],
      "text/plain": [
       "                                                   file  \\\n",
       "0              7ff49f2f0912352416b05c010f35f402cc79feed   \n",
       "1              50cc6c99ec285d0db45dde07d8fdc18d9098c5b6   \n",
       "2              f77c6bd4aebacd1a01d02e0cb20642ebf2d32929   \n",
       "3              349c367c5b88fbb6cafae5d7109588d7250e16b5   \n",
       "4              021f4aa86b520e1d606ab26699c35546bcd00c27   \n",
       "...                                                 ...   \n",
       "9790  3b91b43ad8a25a8e9e52f938473f5bb05fb4d530ff4b22...   \n",
       "9791  54315d591d2855fc794ba5f61012efdd92b489576e4aa5...   \n",
       "9792  dcb7507fa10537d2e3da2ea22ec6346e02a0926ad64d76...   \n",
       "9793  cf441d0a2de25c6207fc782e190ce5302171d5e28ce41b...   \n",
       "9794  be7d4be8e48719257d6040c3e9a1f6f15bc2616ca22276...   \n",
       "\n",
       "                                                    api  class  \n",
       "0            IntersectRect,GetCurrentProcess,GetVersion      1  \n",
       "1     GetCaretBlinkTime,CountClipboardFormats,GetCon...      1  \n",
       "2     VarR8Pow,GetClipboardViewer,GetInputDesktop,Ge...      1  \n",
       "3     SetTraceCallback,CopyAcceleratorTableW,GetProc...      1  \n",
       "4     SHLoadNonloadedIconOverlayIdentifiers,VarUI8Fr...      1  \n",
       "...                                                 ...    ...  \n",
       "9790  NtResetWriteWatch,GetClipboardViewer,GetConsol...      0  \n",
       "9791  RtlpNtEnumerateSubKey,NtFlushWriteBuffer,ReadC...      0  \n",
       "9792  ZwNotifyChangeDirectoryFile,GetCursor,GetConso...      0  \n",
       "9793  ILSaveToStream,OleQueryLinkFromData,VarUdateFr...      0  \n",
       "9794  SwitchToFiber,GetUserDefaultLCID,GetCurrentThr...      0  \n",
       "\n",
       "[9732 rows x 3 columns]"
      ]
     },
     "execution_count": 174,
     "metadata": {},
     "output_type": "execute_result"
    }
   ],
   "source": [
    "df"
   ]
  },
  {
   "cell_type": "markdown",
   "metadata": {},
   "source": [
    "#### Preprocesamiento"
   ]
  },
  {
   "cell_type": "code",
   "execution_count": 175,
   "metadata": {},
   "outputs": [],
   "source": [
    "from sklearn.preprocessing import MultiLabelBinarizer"
   ]
  },
  {
   "cell_type": "code",
   "execution_count": 176,
   "metadata": {},
   "outputs": [],
   "source": [
    "wnl = WordNetLemmatizer()\n",
    "\n",
    "def preprocessing(body):\n",
    "    lower = body.lower().strip()\n",
    "    \n",
    "    ## generamos los tokens sin stop words\n",
    "    tokens = nltk.word_tokenize(lower)\n",
    "    \n",
    "    ## lematizar palabras\n",
    "    lemma = [wnl.lemmatize(token) for token in tokens]\n",
    "    \n",
    "    return lemma"
   ]
  },
  {
   "cell_type": "code",
   "execution_count": 177,
   "metadata": {},
   "outputs": [],
   "source": [
    "df['tokens'] = df.apply(lambda row: preprocessing(row['api']), axis=1)"
   ]
  },
  {
   "cell_type": "code",
   "execution_count": 178,
   "metadata": {},
   "outputs": [
    {
     "data": {
      "text/html": [
       "<div>\n",
       "<style scoped>\n",
       "    .dataframe tbody tr th:only-of-type {\n",
       "        vertical-align: middle;\n",
       "    }\n",
       "\n",
       "    .dataframe tbody tr th {\n",
       "        vertical-align: top;\n",
       "    }\n",
       "\n",
       "    .dataframe thead th {\n",
       "        text-align: right;\n",
       "    }\n",
       "</style>\n",
       "<table border=\"1\" class=\"dataframe\">\n",
       "  <thead>\n",
       "    <tr style=\"text-align: right;\">\n",
       "      <th></th>\n",
       "      <th>file</th>\n",
       "      <th>api</th>\n",
       "      <th>class</th>\n",
       "      <th>tokens</th>\n",
       "    </tr>\n",
       "  </thead>\n",
       "  <tbody>\n",
       "    <tr>\n",
       "      <th>0</th>\n",
       "      <td>7ff49f2f0912352416b05c010f35f402cc79feed</td>\n",
       "      <td>IntersectRect,GetCurrentProcess,GetVersion</td>\n",
       "      <td>1</td>\n",
       "      <td>[intersectrect, ,, getcurrentprocess, ,, getve...</td>\n",
       "    </tr>\n",
       "    <tr>\n",
       "      <th>1</th>\n",
       "      <td>50cc6c99ec285d0db45dde07d8fdc18d9098c5b6</td>\n",
       "      <td>GetCaretBlinkTime,CountClipboardFormats,GetCon...</td>\n",
       "      <td>1</td>\n",
       "      <td>[getcaretblinktime, ,, countclipboardformats, ...</td>\n",
       "    </tr>\n",
       "    <tr>\n",
       "      <th>2</th>\n",
       "      <td>f77c6bd4aebacd1a01d02e0cb20642ebf2d32929</td>\n",
       "      <td>VarR8Pow,GetClipboardViewer,GetInputDesktop,Ge...</td>\n",
       "      <td>1</td>\n",
       "      <td>[varr8pow, ,, getclipboardviewer, ,, getinputd...</td>\n",
       "    </tr>\n",
       "    <tr>\n",
       "      <th>3</th>\n",
       "      <td>349c367c5b88fbb6cafae5d7109588d7250e16b5</td>\n",
       "      <td>SetTraceCallback,CopyAcceleratorTableW,GetProc...</td>\n",
       "      <td>1</td>\n",
       "      <td>[settracecallback, ,, copyacceleratortablew, ,...</td>\n",
       "    </tr>\n",
       "    <tr>\n",
       "      <th>4</th>\n",
       "      <td>021f4aa86b520e1d606ab26699c35546bcd00c27</td>\n",
       "      <td>SHLoadNonloadedIconOverlayIdentifiers,VarUI8Fr...</td>\n",
       "      <td>1</td>\n",
       "      <td>[shloadnonloadediconoverlayidentifiers, ,, var...</td>\n",
       "    </tr>\n",
       "    <tr>\n",
       "      <th>...</th>\n",
       "      <td>...</td>\n",
       "      <td>...</td>\n",
       "      <td>...</td>\n",
       "      <td>...</td>\n",
       "    </tr>\n",
       "    <tr>\n",
       "      <th>9790</th>\n",
       "      <td>3b91b43ad8a25a8e9e52f938473f5bb05fb4d530ff4b22...</td>\n",
       "      <td>NtResetWriteWatch,GetClipboardViewer,GetConsol...</td>\n",
       "      <td>0</td>\n",
       "      <td>[ntresetwritewatch, ,, getclipboardviewer, ,, ...</td>\n",
       "    </tr>\n",
       "    <tr>\n",
       "      <th>9791</th>\n",
       "      <td>54315d591d2855fc794ba5f61012efdd92b489576e4aa5...</td>\n",
       "      <td>RtlpNtEnumerateSubKey,NtFlushWriteBuffer,ReadC...</td>\n",
       "      <td>0</td>\n",
       "      <td>[rtlpntenumeratesubkey, ,, ntflushwritebuffer,...</td>\n",
       "    </tr>\n",
       "    <tr>\n",
       "      <th>9792</th>\n",
       "      <td>dcb7507fa10537d2e3da2ea22ec6346e02a0926ad64d76...</td>\n",
       "      <td>ZwNotifyChangeDirectoryFile,GetCursor,GetConso...</td>\n",
       "      <td>0</td>\n",
       "      <td>[zwnotifychangedirectoryfile, ,, getcursor, ,,...</td>\n",
       "    </tr>\n",
       "    <tr>\n",
       "      <th>9793</th>\n",
       "      <td>cf441d0a2de25c6207fc782e190ce5302171d5e28ce41b...</td>\n",
       "      <td>ILSaveToStream,OleQueryLinkFromData,VarUdateFr...</td>\n",
       "      <td>0</td>\n",
       "      <td>[ilsavetostream, ,, olequerylinkfromdata, ,, v...</td>\n",
       "    </tr>\n",
       "    <tr>\n",
       "      <th>9794</th>\n",
       "      <td>be7d4be8e48719257d6040c3e9a1f6f15bc2616ca22276...</td>\n",
       "      <td>SwitchToFiber,GetUserDefaultLCID,GetCurrentThr...</td>\n",
       "      <td>0</td>\n",
       "      <td>[switchtofiber, ,, getuserdefaultlcid, ,, getc...</td>\n",
       "    </tr>\n",
       "  </tbody>\n",
       "</table>\n",
       "<p>9732 rows × 4 columns</p>\n",
       "</div>"
      ],
      "text/plain": [
       "                                                   file  \\\n",
       "0              7ff49f2f0912352416b05c010f35f402cc79feed   \n",
       "1              50cc6c99ec285d0db45dde07d8fdc18d9098c5b6   \n",
       "2              f77c6bd4aebacd1a01d02e0cb20642ebf2d32929   \n",
       "3              349c367c5b88fbb6cafae5d7109588d7250e16b5   \n",
       "4              021f4aa86b520e1d606ab26699c35546bcd00c27   \n",
       "...                                                 ...   \n",
       "9790  3b91b43ad8a25a8e9e52f938473f5bb05fb4d530ff4b22...   \n",
       "9791  54315d591d2855fc794ba5f61012efdd92b489576e4aa5...   \n",
       "9792  dcb7507fa10537d2e3da2ea22ec6346e02a0926ad64d76...   \n",
       "9793  cf441d0a2de25c6207fc782e190ce5302171d5e28ce41b...   \n",
       "9794  be7d4be8e48719257d6040c3e9a1f6f15bc2616ca22276...   \n",
       "\n",
       "                                                    api  class  \\\n",
       "0            IntersectRect,GetCurrentProcess,GetVersion      1   \n",
       "1     GetCaretBlinkTime,CountClipboardFormats,GetCon...      1   \n",
       "2     VarR8Pow,GetClipboardViewer,GetInputDesktop,Ge...      1   \n",
       "3     SetTraceCallback,CopyAcceleratorTableW,GetProc...      1   \n",
       "4     SHLoadNonloadedIconOverlayIdentifiers,VarUI8Fr...      1   \n",
       "...                                                 ...    ...   \n",
       "9790  NtResetWriteWatch,GetClipboardViewer,GetConsol...      0   \n",
       "9791  RtlpNtEnumerateSubKey,NtFlushWriteBuffer,ReadC...      0   \n",
       "9792  ZwNotifyChangeDirectoryFile,GetCursor,GetConso...      0   \n",
       "9793  ILSaveToStream,OleQueryLinkFromData,VarUdateFr...      0   \n",
       "9794  SwitchToFiber,GetUserDefaultLCID,GetCurrentThr...      0   \n",
       "\n",
       "                                                 tokens  \n",
       "0     [intersectrect, ,, getcurrentprocess, ,, getve...  \n",
       "1     [getcaretblinktime, ,, countclipboardformats, ...  \n",
       "2     [varr8pow, ,, getclipboardviewer, ,, getinputd...  \n",
       "3     [settracecallback, ,, copyacceleratortablew, ,...  \n",
       "4     [shloadnonloadediconoverlayidentifiers, ,, var...  \n",
       "...                                                 ...  \n",
       "9790  [ntresetwritewatch, ,, getclipboardviewer, ,, ...  \n",
       "9791  [rtlpntenumeratesubkey, ,, ntflushwritebuffer,...  \n",
       "9792  [zwnotifychangedirectoryfile, ,, getcursor, ,,...  \n",
       "9793  [ilsavetostream, ,, olequerylinkfromdata, ,, v...  \n",
       "9794  [switchtofiber, ,, getuserdefaultlcid, ,, getc...  \n",
       "\n",
       "[9732 rows x 4 columns]"
      ]
     },
     "execution_count": 178,
     "metadata": {},
     "output_type": "execute_result"
    }
   ],
   "source": [
    "df"
   ]
  },
  {
   "cell_type": "code",
   "execution_count": 179,
   "metadata": {},
   "outputs": [
    {
     "data": {
      "text/html": [
       "<div>\n",
       "<style scoped>\n",
       "    .dataframe tbody tr th:only-of-type {\n",
       "        vertical-align: middle;\n",
       "    }\n",
       "\n",
       "    .dataframe tbody tr th {\n",
       "        vertical-align: top;\n",
       "    }\n",
       "\n",
       "    .dataframe thead th {\n",
       "        text-align: right;\n",
       "    }\n",
       "</style>\n",
       "<table border=\"1\" class=\"dataframe\">\n",
       "  <thead>\n",
       "    <tr style=\"text-align: right;\">\n",
       "      <th></th>\n",
       "      <th>file</th>\n",
       "      <th>api</th>\n",
       "      <th>class</th>\n",
       "      <th>tokens</th>\n",
       "      <th>$</th>\n",
       "      <th>,</th>\n",
       "      <th>0</th>\n",
       "      <th>0_container_base12</th>\n",
       "      <th>0_locinfo</th>\n",
       "      <th>0_lockit</th>\n",
       "      <th>...</th>\n",
       "      <th>zwunloadkeyex</th>\n",
       "      <th>zwunlockfile</th>\n",
       "      <th>zwunmapviewofsection</th>\n",
       "      <th>zwvdmcontrol</th>\n",
       "      <th>zwwaitfordebugevent</th>\n",
       "      <th>zwwaitformultipleobjects</th>\n",
       "      <th>zwwaitforsingleobject</th>\n",
       "      <th>zwwritefile</th>\n",
       "      <th>zwwritefilegather</th>\n",
       "      <th>zwwriterequestdata</th>\n",
       "    </tr>\n",
       "  </thead>\n",
       "  <tbody>\n",
       "    <tr>\n",
       "      <th>0</th>\n",
       "      <td>7ff49f2f0912352416b05c010f35f402cc79feed</td>\n",
       "      <td>IntersectRect,GetCurrentProcess,GetVersion</td>\n",
       "      <td>1</td>\n",
       "      <td>[intersectrect, ,, getcurrentprocess, ,, getve...</td>\n",
       "      <td>0.0</td>\n",
       "      <td>1.0</td>\n",
       "      <td>0.0</td>\n",
       "      <td>0.0</td>\n",
       "      <td>0.0</td>\n",
       "      <td>0.0</td>\n",
       "      <td>...</td>\n",
       "      <td>0.0</td>\n",
       "      <td>0.0</td>\n",
       "      <td>0.0</td>\n",
       "      <td>0.0</td>\n",
       "      <td>0.0</td>\n",
       "      <td>0.0</td>\n",
       "      <td>0.0</td>\n",
       "      <td>0.0</td>\n",
       "      <td>0.0</td>\n",
       "      <td>0.0</td>\n",
       "    </tr>\n",
       "    <tr>\n",
       "      <th>1</th>\n",
       "      <td>50cc6c99ec285d0db45dde07d8fdc18d9098c5b6</td>\n",
       "      <td>GetCaretBlinkTime,CountClipboardFormats,GetCon...</td>\n",
       "      <td>1</td>\n",
       "      <td>[getcaretblinktime, ,, countclipboardformats, ...</td>\n",
       "      <td>0.0</td>\n",
       "      <td>1.0</td>\n",
       "      <td>0.0</td>\n",
       "      <td>0.0</td>\n",
       "      <td>0.0</td>\n",
       "      <td>0.0</td>\n",
       "      <td>...</td>\n",
       "      <td>0.0</td>\n",
       "      <td>0.0</td>\n",
       "      <td>0.0</td>\n",
       "      <td>0.0</td>\n",
       "      <td>0.0</td>\n",
       "      <td>0.0</td>\n",
       "      <td>0.0</td>\n",
       "      <td>0.0</td>\n",
       "      <td>0.0</td>\n",
       "      <td>0.0</td>\n",
       "    </tr>\n",
       "    <tr>\n",
       "      <th>2</th>\n",
       "      <td>f77c6bd4aebacd1a01d02e0cb20642ebf2d32929</td>\n",
       "      <td>VarR8Pow,GetClipboardViewer,GetInputDesktop,Ge...</td>\n",
       "      <td>1</td>\n",
       "      <td>[varr8pow, ,, getclipboardviewer, ,, getinputd...</td>\n",
       "      <td>0.0</td>\n",
       "      <td>1.0</td>\n",
       "      <td>0.0</td>\n",
       "      <td>0.0</td>\n",
       "      <td>0.0</td>\n",
       "      <td>0.0</td>\n",
       "      <td>...</td>\n",
       "      <td>0.0</td>\n",
       "      <td>0.0</td>\n",
       "      <td>0.0</td>\n",
       "      <td>0.0</td>\n",
       "      <td>0.0</td>\n",
       "      <td>0.0</td>\n",
       "      <td>0.0</td>\n",
       "      <td>0.0</td>\n",
       "      <td>0.0</td>\n",
       "      <td>0.0</td>\n",
       "    </tr>\n",
       "    <tr>\n",
       "      <th>3</th>\n",
       "      <td>349c367c5b88fbb6cafae5d7109588d7250e16b5</td>\n",
       "      <td>SetTraceCallback,CopyAcceleratorTableW,GetProc...</td>\n",
       "      <td>1</td>\n",
       "      <td>[settracecallback, ,, copyacceleratortablew, ,...</td>\n",
       "      <td>0.0</td>\n",
       "      <td>1.0</td>\n",
       "      <td>0.0</td>\n",
       "      <td>0.0</td>\n",
       "      <td>0.0</td>\n",
       "      <td>0.0</td>\n",
       "      <td>...</td>\n",
       "      <td>0.0</td>\n",
       "      <td>0.0</td>\n",
       "      <td>0.0</td>\n",
       "      <td>0.0</td>\n",
       "      <td>0.0</td>\n",
       "      <td>0.0</td>\n",
       "      <td>0.0</td>\n",
       "      <td>0.0</td>\n",
       "      <td>0.0</td>\n",
       "      <td>0.0</td>\n",
       "    </tr>\n",
       "    <tr>\n",
       "      <th>4</th>\n",
       "      <td>021f4aa86b520e1d606ab26699c35546bcd00c27</td>\n",
       "      <td>SHLoadNonloadedIconOverlayIdentifiers,VarUI8Fr...</td>\n",
       "      <td>1</td>\n",
       "      <td>[shloadnonloadediconoverlayidentifiers, ,, var...</td>\n",
       "      <td>0.0</td>\n",
       "      <td>1.0</td>\n",
       "      <td>0.0</td>\n",
       "      <td>0.0</td>\n",
       "      <td>0.0</td>\n",
       "      <td>0.0</td>\n",
       "      <td>...</td>\n",
       "      <td>0.0</td>\n",
       "      <td>0.0</td>\n",
       "      <td>0.0</td>\n",
       "      <td>0.0</td>\n",
       "      <td>0.0</td>\n",
       "      <td>0.0</td>\n",
       "      <td>0.0</td>\n",
       "      <td>0.0</td>\n",
       "      <td>0.0</td>\n",
       "      <td>0.0</td>\n",
       "    </tr>\n",
       "    <tr>\n",
       "      <th>...</th>\n",
       "      <td>...</td>\n",
       "      <td>...</td>\n",
       "      <td>...</td>\n",
       "      <td>...</td>\n",
       "      <td>...</td>\n",
       "      <td>...</td>\n",
       "      <td>...</td>\n",
       "      <td>...</td>\n",
       "      <td>...</td>\n",
       "      <td>...</td>\n",
       "      <td>...</td>\n",
       "      <td>...</td>\n",
       "      <td>...</td>\n",
       "      <td>...</td>\n",
       "      <td>...</td>\n",
       "      <td>...</td>\n",
       "      <td>...</td>\n",
       "      <td>...</td>\n",
       "      <td>...</td>\n",
       "      <td>...</td>\n",
       "      <td>...</td>\n",
       "    </tr>\n",
       "    <tr>\n",
       "      <th>9790</th>\n",
       "      <td>3b91b43ad8a25a8e9e52f938473f5bb05fb4d530ff4b22...</td>\n",
       "      <td>NtResetWriteWatch,GetClipboardViewer,GetConsol...</td>\n",
       "      <td>0</td>\n",
       "      <td>[ntresetwritewatch, ,, getclipboardviewer, ,, ...</td>\n",
       "      <td>NaN</td>\n",
       "      <td>NaN</td>\n",
       "      <td>NaN</td>\n",
       "      <td>NaN</td>\n",
       "      <td>NaN</td>\n",
       "      <td>NaN</td>\n",
       "      <td>...</td>\n",
       "      <td>NaN</td>\n",
       "      <td>NaN</td>\n",
       "      <td>NaN</td>\n",
       "      <td>NaN</td>\n",
       "      <td>NaN</td>\n",
       "      <td>NaN</td>\n",
       "      <td>NaN</td>\n",
       "      <td>NaN</td>\n",
       "      <td>NaN</td>\n",
       "      <td>NaN</td>\n",
       "    </tr>\n",
       "    <tr>\n",
       "      <th>9791</th>\n",
       "      <td>54315d591d2855fc794ba5f61012efdd92b489576e4aa5...</td>\n",
       "      <td>RtlpNtEnumerateSubKey,NtFlushWriteBuffer,ReadC...</td>\n",
       "      <td>0</td>\n",
       "      <td>[rtlpntenumeratesubkey, ,, ntflushwritebuffer,...</td>\n",
       "      <td>NaN</td>\n",
       "      <td>NaN</td>\n",
       "      <td>NaN</td>\n",
       "      <td>NaN</td>\n",
       "      <td>NaN</td>\n",
       "      <td>NaN</td>\n",
       "      <td>...</td>\n",
       "      <td>NaN</td>\n",
       "      <td>NaN</td>\n",
       "      <td>NaN</td>\n",
       "      <td>NaN</td>\n",
       "      <td>NaN</td>\n",
       "      <td>NaN</td>\n",
       "      <td>NaN</td>\n",
       "      <td>NaN</td>\n",
       "      <td>NaN</td>\n",
       "      <td>NaN</td>\n",
       "    </tr>\n",
       "    <tr>\n",
       "      <th>9792</th>\n",
       "      <td>dcb7507fa10537d2e3da2ea22ec6346e02a0926ad64d76...</td>\n",
       "      <td>ZwNotifyChangeDirectoryFile,GetCursor,GetConso...</td>\n",
       "      <td>0</td>\n",
       "      <td>[zwnotifychangedirectoryfile, ,, getcursor, ,,...</td>\n",
       "      <td>NaN</td>\n",
       "      <td>NaN</td>\n",
       "      <td>NaN</td>\n",
       "      <td>NaN</td>\n",
       "      <td>NaN</td>\n",
       "      <td>NaN</td>\n",
       "      <td>...</td>\n",
       "      <td>NaN</td>\n",
       "      <td>NaN</td>\n",
       "      <td>NaN</td>\n",
       "      <td>NaN</td>\n",
       "      <td>NaN</td>\n",
       "      <td>NaN</td>\n",
       "      <td>NaN</td>\n",
       "      <td>NaN</td>\n",
       "      <td>NaN</td>\n",
       "      <td>NaN</td>\n",
       "    </tr>\n",
       "    <tr>\n",
       "      <th>9793</th>\n",
       "      <td>cf441d0a2de25c6207fc782e190ce5302171d5e28ce41b...</td>\n",
       "      <td>ILSaveToStream,OleQueryLinkFromData,VarUdateFr...</td>\n",
       "      <td>0</td>\n",
       "      <td>[ilsavetostream, ,, olequerylinkfromdata, ,, v...</td>\n",
       "      <td>NaN</td>\n",
       "      <td>NaN</td>\n",
       "      <td>NaN</td>\n",
       "      <td>NaN</td>\n",
       "      <td>NaN</td>\n",
       "      <td>NaN</td>\n",
       "      <td>...</td>\n",
       "      <td>NaN</td>\n",
       "      <td>NaN</td>\n",
       "      <td>NaN</td>\n",
       "      <td>NaN</td>\n",
       "      <td>NaN</td>\n",
       "      <td>NaN</td>\n",
       "      <td>NaN</td>\n",
       "      <td>NaN</td>\n",
       "      <td>NaN</td>\n",
       "      <td>NaN</td>\n",
       "    </tr>\n",
       "    <tr>\n",
       "      <th>9794</th>\n",
       "      <td>be7d4be8e48719257d6040c3e9a1f6f15bc2616ca22276...</td>\n",
       "      <td>SwitchToFiber,GetUserDefaultLCID,GetCurrentThr...</td>\n",
       "      <td>0</td>\n",
       "      <td>[switchtofiber, ,, getuserdefaultlcid, ,, getc...</td>\n",
       "      <td>NaN</td>\n",
       "      <td>NaN</td>\n",
       "      <td>NaN</td>\n",
       "      <td>NaN</td>\n",
       "      <td>NaN</td>\n",
       "      <td>NaN</td>\n",
       "      <td>...</td>\n",
       "      <td>NaN</td>\n",
       "      <td>NaN</td>\n",
       "      <td>NaN</td>\n",
       "      <td>NaN</td>\n",
       "      <td>NaN</td>\n",
       "      <td>NaN</td>\n",
       "      <td>NaN</td>\n",
       "      <td>NaN</td>\n",
       "      <td>NaN</td>\n",
       "      <td>NaN</td>\n",
       "    </tr>\n",
       "  </tbody>\n",
       "</table>\n",
       "<p>9732 rows × 7921 columns</p>\n",
       "</div>"
      ],
      "text/plain": [
       "                                                   file  \\\n",
       "0              7ff49f2f0912352416b05c010f35f402cc79feed   \n",
       "1              50cc6c99ec285d0db45dde07d8fdc18d9098c5b6   \n",
       "2              f77c6bd4aebacd1a01d02e0cb20642ebf2d32929   \n",
       "3              349c367c5b88fbb6cafae5d7109588d7250e16b5   \n",
       "4              021f4aa86b520e1d606ab26699c35546bcd00c27   \n",
       "...                                                 ...   \n",
       "9790  3b91b43ad8a25a8e9e52f938473f5bb05fb4d530ff4b22...   \n",
       "9791  54315d591d2855fc794ba5f61012efdd92b489576e4aa5...   \n",
       "9792  dcb7507fa10537d2e3da2ea22ec6346e02a0926ad64d76...   \n",
       "9793  cf441d0a2de25c6207fc782e190ce5302171d5e28ce41b...   \n",
       "9794  be7d4be8e48719257d6040c3e9a1f6f15bc2616ca22276...   \n",
       "\n",
       "                                                    api  class  \\\n",
       "0            IntersectRect,GetCurrentProcess,GetVersion      1   \n",
       "1     GetCaretBlinkTime,CountClipboardFormats,GetCon...      1   \n",
       "2     VarR8Pow,GetClipboardViewer,GetInputDesktop,Ge...      1   \n",
       "3     SetTraceCallback,CopyAcceleratorTableW,GetProc...      1   \n",
       "4     SHLoadNonloadedIconOverlayIdentifiers,VarUI8Fr...      1   \n",
       "...                                                 ...    ...   \n",
       "9790  NtResetWriteWatch,GetClipboardViewer,GetConsol...      0   \n",
       "9791  RtlpNtEnumerateSubKey,NtFlushWriteBuffer,ReadC...      0   \n",
       "9792  ZwNotifyChangeDirectoryFile,GetCursor,GetConso...      0   \n",
       "9793  ILSaveToStream,OleQueryLinkFromData,VarUdateFr...      0   \n",
       "9794  SwitchToFiber,GetUserDefaultLCID,GetCurrentThr...      0   \n",
       "\n",
       "                                                 tokens    $    ,    0  \\\n",
       "0     [intersectrect, ,, getcurrentprocess, ,, getve...  0.0  1.0  0.0   \n",
       "1     [getcaretblinktime, ,, countclipboardformats, ...  0.0  1.0  0.0   \n",
       "2     [varr8pow, ,, getclipboardviewer, ,, getinputd...  0.0  1.0  0.0   \n",
       "3     [settracecallback, ,, copyacceleratortablew, ,...  0.0  1.0  0.0   \n",
       "4     [shloadnonloadediconoverlayidentifiers, ,, var...  0.0  1.0  0.0   \n",
       "...                                                 ...  ...  ...  ...   \n",
       "9790  [ntresetwritewatch, ,, getclipboardviewer, ,, ...  NaN  NaN  NaN   \n",
       "9791  [rtlpntenumeratesubkey, ,, ntflushwritebuffer,...  NaN  NaN  NaN   \n",
       "9792  [zwnotifychangedirectoryfile, ,, getcursor, ,,...  NaN  NaN  NaN   \n",
       "9793  [ilsavetostream, ,, olequerylinkfromdata, ,, v...  NaN  NaN  NaN   \n",
       "9794  [switchtofiber, ,, getuserdefaultlcid, ,, getc...  NaN  NaN  NaN   \n",
       "\n",
       "      0_container_base12  0_locinfo  0_lockit  ...  zwunloadkeyex  \\\n",
       "0                    0.0        0.0       0.0  ...            0.0   \n",
       "1                    0.0        0.0       0.0  ...            0.0   \n",
       "2                    0.0        0.0       0.0  ...            0.0   \n",
       "3                    0.0        0.0       0.0  ...            0.0   \n",
       "4                    0.0        0.0       0.0  ...            0.0   \n",
       "...                  ...        ...       ...  ...            ...   \n",
       "9790                 NaN        NaN       NaN  ...            NaN   \n",
       "9791                 NaN        NaN       NaN  ...            NaN   \n",
       "9792                 NaN        NaN       NaN  ...            NaN   \n",
       "9793                 NaN        NaN       NaN  ...            NaN   \n",
       "9794                 NaN        NaN       NaN  ...            NaN   \n",
       "\n",
       "      zwunlockfile  zwunmapviewofsection  zwvdmcontrol  zwwaitfordebugevent  \\\n",
       "0              0.0                   0.0           0.0                  0.0   \n",
       "1              0.0                   0.0           0.0                  0.0   \n",
       "2              0.0                   0.0           0.0                  0.0   \n",
       "3              0.0                   0.0           0.0                  0.0   \n",
       "4              0.0                   0.0           0.0                  0.0   \n",
       "...            ...                   ...           ...                  ...   \n",
       "9790           NaN                   NaN           NaN                  NaN   \n",
       "9791           NaN                   NaN           NaN                  NaN   \n",
       "9792           NaN                   NaN           NaN                  NaN   \n",
       "9793           NaN                   NaN           NaN                  NaN   \n",
       "9794           NaN                   NaN           NaN                  NaN   \n",
       "\n",
       "      zwwaitformultipleobjects  zwwaitforsingleobject  zwwritefile  \\\n",
       "0                          0.0                    0.0          0.0   \n",
       "1                          0.0                    0.0          0.0   \n",
       "2                          0.0                    0.0          0.0   \n",
       "3                          0.0                    0.0          0.0   \n",
       "4                          0.0                    0.0          0.0   \n",
       "...                        ...                    ...          ...   \n",
       "9790                       NaN                    NaN          NaN   \n",
       "9791                       NaN                    NaN          NaN   \n",
       "9792                       NaN                    NaN          NaN   \n",
       "9793                       NaN                    NaN          NaN   \n",
       "9794                       NaN                    NaN          NaN   \n",
       "\n",
       "      zwwritefilegather  zwwriterequestdata  \n",
       "0                   0.0                 0.0  \n",
       "1                   0.0                 0.0  \n",
       "2                   0.0                 0.0  \n",
       "3                   0.0                 0.0  \n",
       "4                   0.0                 0.0  \n",
       "...                 ...                 ...  \n",
       "9790                NaN                 NaN  \n",
       "9791                NaN                 NaN  \n",
       "9792                NaN                 NaN  \n",
       "9793                NaN                 NaN  \n",
       "9794                NaN                 NaN  \n",
       "\n",
       "[9732 rows x 7921 columns]"
      ]
     },
     "execution_count": 179,
     "metadata": {},
     "output_type": "execute_result"
    }
   ],
   "source": [
    "mlb = MultiLabelBinarizer()\n",
    "df = df.join(pd.DataFrame(mlb.fit_transform(df['tokens']),columns=mlb.classes_))\n",
    "\n",
    "df"
   ]
  },
  {
   "cell_type": "markdown",
   "metadata": {},
   "source": [
    "#### Selección de características"
   ]
  },
  {
   "cell_type": "code",
   "execution_count": 180,
   "metadata": {},
   "outputs": [],
   "source": [
    "label = 'class'"
   ]
  },
  {
   "cell_type": "code",
   "execution_count": 181,
   "metadata": {},
   "outputs": [],
   "source": [
    "columns = ['file', 'api', 'class', 'tokens']"
   ]
  },
  {
   "cell_type": "code",
   "execution_count": 182,
   "metadata": {},
   "outputs": [],
   "source": [
    "df = df.dropna()"
   ]
  },
  {
   "cell_type": "code",
   "execution_count": 183,
   "metadata": {},
   "outputs": [],
   "source": [
    "X = df.drop(columns=columns, axis=1)"
   ]
  },
  {
   "cell_type": "code",
   "execution_count": 184,
   "metadata": {},
   "outputs": [],
   "source": [
    "y = df[label]"
   ]
  },
  {
   "cell_type": "code",
   "execution_count": 185,
   "metadata": {},
   "outputs": [
    {
     "data": {
      "text/plain": [
       "0       1\n",
       "1       1\n",
       "2       1\n",
       "3       1\n",
       "4       1\n",
       "       ..\n",
       "9727    1\n",
       "9728    1\n",
       "9729    1\n",
       "9730    1\n",
       "9731    1\n",
       "Name: class, Length: 9669, dtype: int64"
      ]
     },
     "execution_count": 185,
     "metadata": {},
     "output_type": "execute_result"
    }
   ],
   "source": [
    "y"
   ]
  },
  {
   "cell_type": "markdown",
   "metadata": {},
   "source": [
    "#### División de los datos"
   ]
  },
  {
   "cell_type": "code",
   "execution_count": 199,
   "metadata": {},
   "outputs": [],
   "source": [
    "import sklearn\n",
    "from sklearn.model_selection import train_test_split, KFold, cross_val_score\n",
    "from sklearn.metrics import classification_report, confusion_matrix"
   ]
  },
  {
   "cell_type": "code",
   "execution_count": 187,
   "metadata": {},
   "outputs": [],
   "source": [
    "test_ratio = 0.3"
   ]
  },
  {
   "cell_type": "code",
   "execution_count": 188,
   "metadata": {},
   "outputs": [],
   "source": [
    "X_train, X_test, y_train, y_test = train_test_split(X, y, test_size=test_ratio)"
   ]
  },
  {
   "cell_type": "markdown",
   "metadata": {},
   "source": [
    "### Modelos\n",
    "*K-Fold referenciado de: https://machinelearningmastery.com/how-to-configure-k-fold-cross-validation/*"
   ]
  },
  {
   "cell_type": "markdown",
   "metadata": {},
   "source": [
    "**Modelo 1**"
   ]
  },
  {
   "cell_type": "code",
   "execution_count": 189,
   "metadata": {},
   "outputs": [],
   "source": [
    "from sklearn.neighbors import KNeighborsClassifier"
   ]
  },
  {
   "cell_type": "code",
   "execution_count": 190,
   "metadata": {},
   "outputs": [
    {
     "data": {
      "text/plain": [
       "KNeighborsClassifier()"
      ]
     },
     "execution_count": 190,
     "metadata": {},
     "output_type": "execute_result"
    }
   ],
   "source": [
    "knn = KNeighborsClassifier(n_neighbors=5)\n",
    "knn.fit(X_train, y_train)"
   ]
  },
  {
   "cell_type": "code",
   "execution_count": 191,
   "metadata": {},
   "outputs": [
    {
     "name": "stdout",
     "output_type": "stream",
     "text": [
      "              precision    recall  f1-score   support\n",
      "\n",
      "           0       0.92      0.97      0.94      1821\n",
      "           1       0.94      0.95      0.94       675\n",
      "           2       0.80      0.73      0.76       155\n",
      "           3       0.75      0.44      0.55       141\n",
      "           4       0.68      0.56      0.61        72\n",
      "           5       0.50      0.03      0.05        37\n",
      "\n",
      "    accuracy                           0.91      2901\n",
      "   macro avg       0.76      0.61      0.64      2901\n",
      "weighted avg       0.90      0.91      0.90      2901\n",
      "\n"
     ]
    }
   ],
   "source": [
    "y_pred = knn.predict(X_test)\n",
    "print(classification_report(y_test, y_pred))"
   ]
  },
  {
   "cell_type": "code",
   "execution_count": 200,
   "metadata": {},
   "outputs": [],
   "source": [
    "kf = KFold(n_splits=10)"
   ]
  },
  {
   "cell_type": "code",
   "execution_count": 201,
   "metadata": {},
   "outputs": [],
   "source": [
    "results = cross_val_score(knn, X, y, scoring='accuracy', cv=kf, n_jobs=-1)"
   ]
  },
  {
   "cell_type": "code",
   "execution_count": 202,
   "metadata": {},
   "outputs": [
    {
     "data": {
      "text/plain": [
       "array([0.94932782, 0.86452947, 0.94725957, 0.73733195, 0.98138573,\n",
       "       0.97931748, 0.92140641, 0.9524302 , 0.91520165, 0.59834369])"
      ]
     },
     "execution_count": 202,
     "metadata": {},
     "output_type": "execute_result"
    }
   ],
   "source": [
    "results"
   ]
  },
  {
   "cell_type": "code",
   "execution_count": 204,
   "metadata": {},
   "outputs": [
    {
     "name": "stdout",
     "output_type": "stream",
     "text": [
      "Accuracy: 0.885 (0.117)\n"
     ]
    }
   ],
   "source": [
    "print('Accuracy: %.3f (%.3f)' % (np.mean(results), np.std(results)))"
   ]
  },
  {
   "cell_type": "markdown",
   "metadata": {},
   "source": [
    "#### Modelo 2"
   ]
  },
  {
   "cell_type": "code",
   "execution_count": 192,
   "metadata": {},
   "outputs": [],
   "source": [
    "from sklearn import tree\n",
    "\n",
    "depth = 3\n",
    "sample_split = 40"
   ]
  },
  {
   "cell_type": "code",
   "execution_count": 193,
   "metadata": {},
   "outputs": [
    {
     "data": {
      "text/plain": [
       "DecisionTreeClassifier(max_depth=3, min_samples_split=40)"
      ]
     },
     "execution_count": 193,
     "metadata": {},
     "output_type": "execute_result"
    }
   ],
   "source": [
    "tre = tree.DecisionTreeClassifier(\n",
    "    max_depth = depth,\n",
    "    min_samples_split = sample_split\n",
    ")\n",
    "\n",
    "tre.fit(X_train, y_train)"
   ]
  },
  {
   "cell_type": "code",
   "execution_count": 194,
   "metadata": {},
   "outputs": [
    {
     "name": "stdout",
     "output_type": "stream",
     "text": [
      "              precision    recall  f1-score   support\n",
      "\n",
      "           0       0.90      0.90      0.90      1821\n",
      "           1       0.84      0.94      0.89       675\n",
      "           2       0.59      0.74      0.65       155\n",
      "           3       0.66      0.38      0.48       141\n",
      "           4       0.76      0.39      0.51        72\n",
      "           5       0.00      0.00      0.00        37\n",
      "\n",
      "    accuracy                           0.85      2901\n",
      "   macro avg       0.62      0.56      0.57      2901\n",
      "weighted avg       0.84      0.85      0.84      2901\n",
      "\n"
     ]
    },
    {
     "name": "stderr",
     "output_type": "stream",
     "text": [
      "c:\\users\\gerardo\\.virtualenvs\\sds\\lib\\site-packages\\sklearn\\metrics\\_classification.py:1318: UndefinedMetricWarning: Precision and F-score are ill-defined and being set to 0.0 in labels with no predicted samples. Use `zero_division` parameter to control this behavior.\n",
      "  _warn_prf(average, modifier, msg_start, len(result))\n",
      "c:\\users\\gerardo\\.virtualenvs\\sds\\lib\\site-packages\\sklearn\\metrics\\_classification.py:1318: UndefinedMetricWarning: Precision and F-score are ill-defined and being set to 0.0 in labels with no predicted samples. Use `zero_division` parameter to control this behavior.\n",
      "  _warn_prf(average, modifier, msg_start, len(result))\n",
      "c:\\users\\gerardo\\.virtualenvs\\sds\\lib\\site-packages\\sklearn\\metrics\\_classification.py:1318: UndefinedMetricWarning: Precision and F-score are ill-defined and being set to 0.0 in labels with no predicted samples. Use `zero_division` parameter to control this behavior.\n",
      "  _warn_prf(average, modifier, msg_start, len(result))\n"
     ]
    }
   ],
   "source": [
    "tre_pred = tre.predict(X_test)\n",
    "print(classification_report(y_test, tre_pred))"
   ]
  },
  {
   "cell_type": "code",
   "execution_count": 205,
   "metadata": {},
   "outputs": [],
   "source": [
    "kf = KFold(n_splits=10)"
   ]
  },
  {
   "cell_type": "code",
   "execution_count": 206,
   "metadata": {},
   "outputs": [],
   "source": [
    "results = cross_val_score(tre, X, y, scoring='accuracy', cv=kf, n_jobs=-1)"
   ]
  },
  {
   "cell_type": "code",
   "execution_count": 207,
   "metadata": {},
   "outputs": [
    {
     "data": {
      "text/plain": [
       "array([0.89762151, 0.85832472, 0.94002068, 0.65356774, 0.90382627,\n",
       "       0.88831437, 0.91623578, 0.89348501, 0.83143744, 0.40269151])"
      ]
     },
     "execution_count": 207,
     "metadata": {},
     "output_type": "execute_result"
    }
   ],
   "source": [
    "results"
   ]
  },
  {
   "cell_type": "code",
   "execution_count": 208,
   "metadata": {},
   "outputs": [
    {
     "name": "stdout",
     "output_type": "stream",
     "text": [
      "Accuracy: 0.819 (0.158)\n"
     ]
    }
   ],
   "source": [
    "print('Accuracy: %.3f (%.3f)' % (np.mean(results), np.std(results)))"
   ]
  },
  {
   "cell_type": "markdown",
   "metadata": {},
   "source": [
    "Para ambos modelos, las métricas de recall, precision y f1-score dependen del tipo de malware que sean. Logran detectar mejor los tipos con mayor cantidad de muestras en el set de datos."
   ]
  },
  {
   "cell_type": "markdown",
   "metadata": {},
   "source": [
    "### Conclusion"
   ]
  },
  {
   "cell_type": "markdown",
   "metadata": {},
   "source": [
    "¿Se lograron obtener mejores métricas que las obtenidas en el \n",
    "artículo para la clasificación de malware?\n",
    "> No se lograron obtener mejores métricas, los valores que se presentan en el artículo siguen siendo más altos."
   ]
  }
 ],
 "metadata": {
  "colab": {
   "name": "lab01.ipynb",
   "provenance": []
  },
  "kernelspec": {
   "display_name": "Python 3 (ipykernel)",
   "language": "python",
   "name": "python3"
  },
  "language_info": {
   "codemirror_mode": {
    "name": "ipython",
    "version": 3
   },
   "file_extension": ".py",
   "mimetype": "text/x-python",
   "name": "python",
   "nbconvert_exporter": "python",
   "pygments_lexer": "ipython3",
   "version": "3.8.10"
  }
 },
 "nbformat": 4,
 "nbformat_minor": 4
}
